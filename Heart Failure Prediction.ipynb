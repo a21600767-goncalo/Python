{
 "cells": [
  {
   "cell_type": "code",
   "execution_count": 2,
   "metadata": {},
   "outputs": [],
   "source": [
    "import pandas as pd\n",
    "import numpy as np\n",
    "import matplotlib.pyplot as plt"
   ]
  },
  {
   "cell_type": "code",
   "execution_count": 3,
   "metadata": {},
   "outputs": [
    {
     "data": {
      "text/html": [
       "<div>\n",
       "<style scoped>\n",
       "    .dataframe tbody tr th:only-of-type {\n",
       "        vertical-align: middle;\n",
       "    }\n",
       "\n",
       "    .dataframe tbody tr th {\n",
       "        vertical-align: top;\n",
       "    }\n",
       "\n",
       "    .dataframe thead th {\n",
       "        text-align: right;\n",
       "    }\n",
       "</style>\n",
       "<table border=\"1\" class=\"dataframe\">\n",
       "  <thead>\n",
       "    <tr style=\"text-align: right;\">\n",
       "      <th></th>\n",
       "      <th>Age</th>\n",
       "      <th>Sex</th>\n",
       "      <th>ChestPainType</th>\n",
       "      <th>RestingBP</th>\n",
       "      <th>Cholesterol</th>\n",
       "      <th>FastingBS</th>\n",
       "      <th>RestingECG</th>\n",
       "      <th>MaxHR</th>\n",
       "      <th>ExerciseAngina</th>\n",
       "      <th>Oldpeak</th>\n",
       "      <th>ST_Slope</th>\n",
       "      <th>HeartDisease</th>\n",
       "    </tr>\n",
       "  </thead>\n",
       "  <tbody>\n",
       "    <tr>\n",
       "      <th>0</th>\n",
       "      <td>40</td>\n",
       "      <td>M</td>\n",
       "      <td>ATA</td>\n",
       "      <td>140</td>\n",
       "      <td>289</td>\n",
       "      <td>0</td>\n",
       "      <td>Normal</td>\n",
       "      <td>172</td>\n",
       "      <td>N</td>\n",
       "      <td>0.0</td>\n",
       "      <td>Up</td>\n",
       "      <td>0</td>\n",
       "    </tr>\n",
       "    <tr>\n",
       "      <th>1</th>\n",
       "      <td>49</td>\n",
       "      <td>F</td>\n",
       "      <td>NAP</td>\n",
       "      <td>160</td>\n",
       "      <td>180</td>\n",
       "      <td>0</td>\n",
       "      <td>Normal</td>\n",
       "      <td>156</td>\n",
       "      <td>N</td>\n",
       "      <td>1.0</td>\n",
       "      <td>Flat</td>\n",
       "      <td>1</td>\n",
       "    </tr>\n",
       "    <tr>\n",
       "      <th>2</th>\n",
       "      <td>37</td>\n",
       "      <td>M</td>\n",
       "      <td>ATA</td>\n",
       "      <td>130</td>\n",
       "      <td>283</td>\n",
       "      <td>0</td>\n",
       "      <td>ST</td>\n",
       "      <td>98</td>\n",
       "      <td>N</td>\n",
       "      <td>0.0</td>\n",
       "      <td>Up</td>\n",
       "      <td>0</td>\n",
       "    </tr>\n",
       "    <tr>\n",
       "      <th>3</th>\n",
       "      <td>48</td>\n",
       "      <td>F</td>\n",
       "      <td>ASY</td>\n",
       "      <td>138</td>\n",
       "      <td>214</td>\n",
       "      <td>0</td>\n",
       "      <td>Normal</td>\n",
       "      <td>108</td>\n",
       "      <td>Y</td>\n",
       "      <td>1.5</td>\n",
       "      <td>Flat</td>\n",
       "      <td>1</td>\n",
       "    </tr>\n",
       "    <tr>\n",
       "      <th>4</th>\n",
       "      <td>54</td>\n",
       "      <td>M</td>\n",
       "      <td>NAP</td>\n",
       "      <td>150</td>\n",
       "      <td>195</td>\n",
       "      <td>0</td>\n",
       "      <td>Normal</td>\n",
       "      <td>122</td>\n",
       "      <td>N</td>\n",
       "      <td>0.0</td>\n",
       "      <td>Up</td>\n",
       "      <td>0</td>\n",
       "    </tr>\n",
       "  </tbody>\n",
       "</table>\n",
       "</div>"
      ],
      "text/plain": [
       "   Age Sex ChestPainType  RestingBP  Cholesterol  FastingBS RestingECG  MaxHR  \\\n",
       "0   40   M           ATA        140          289          0     Normal    172   \n",
       "1   49   F           NAP        160          180          0     Normal    156   \n",
       "2   37   M           ATA        130          283          0         ST     98   \n",
       "3   48   F           ASY        138          214          0     Normal    108   \n",
       "4   54   M           NAP        150          195          0     Normal    122   \n",
       "\n",
       "  ExerciseAngina  Oldpeak ST_Slope  HeartDisease  \n",
       "0              N      0.0       Up             0  \n",
       "1              N      1.0     Flat             1  \n",
       "2              N      0.0       Up             0  \n",
       "3              Y      1.5     Flat             1  \n",
       "4              N      0.0       Up             0  "
      ]
     },
     "execution_count": 3,
     "metadata": {},
     "output_type": "execute_result"
    }
   ],
   "source": [
    "path =\"C:\\\\Users\\\\gonca\\\\Downloads\\\\Heart_failure\\\\heart.csv\"\n",
    "df = pd.read_csv(path)\n",
    "df.head()"
   ]
  },
  {
   "cell_type": "code",
   "execution_count": 6,
   "metadata": {},
   "outputs": [
    {
     "data": {
      "text/plain": [
       "Age                 int64\n",
       "Sex                object\n",
       "ChestPainType      object\n",
       "RestingBP           int64\n",
       "Cholesterol         int64\n",
       "FastingBS           int64\n",
       "RestingECG         object\n",
       "MaxHR               int64\n",
       "ExerciseAngina     object\n",
       "Oldpeak           float64\n",
       "ST_Slope           object\n",
       "HeartDisease        int64\n",
       "dtype: object"
      ]
     },
     "execution_count": 6,
     "metadata": {},
     "output_type": "execute_result"
    }
   ],
   "source": [
    "df.dtypes"
   ]
  },
  {
   "cell_type": "code",
   "execution_count": 144,
   "metadata": {},
   "outputs": [
    {
     "data": {
      "text/plain": [
       "LinearRegression(copy_X=True, fit_intercept=True, n_jobs=None,\n",
       "         normalize=False)"
      ]
     },
     "execution_count": 144,
     "metadata": {},
     "output_type": "execute_result"
    }
   ],
   "source": [
    "from sklearn.linear_model import LinearRegression\n",
    "lm = LinearRegression()\n",
    "lm"
   ]
  },
  {
   "cell_type": "code",
   "execution_count": 145,
   "metadata": {},
   "outputs": [
    {
     "data": {
      "text/plain": [
       "array([191.99020375])"
      ]
     },
     "execution_count": 145,
     "metadata": {},
     "output_type": "execute_result"
    }
   ],
   "source": [
    "X = df[[\"Age\"]]\n",
    "Y = df[[\"MaxHR\"]]\n",
    "lm1 = LinearRegression()\n",
    "lm1.fit(X,Y)\n",
    "lm1.coef_\n",
    "lm1.intercept_"
   ]
  },
  {
   "cell_type": "code",
   "execution_count": 146,
   "metadata": {},
   "outputs": [
    {
     "name": "stderr",
     "output_type": "stream",
     "text": [
      "C:\\Users\\gonca\\Anaconda3\\lib\\site-packages\\scipy\\stats\\stats.py:1713: FutureWarning: Using a non-tuple sequence for multidimensional indexing is deprecated; use `arr[tuple(seq)]` instead of `arr[seq]`. In the future this will be interpreted as an array index, `arr[np.array(seq)]`, which will result either in an error or a different result.\n",
      "  return np.add.reduce(sorted[indexer] * weights, axis=axis) / sumval\n"
     ]
    },
    {
     "data": {
      "text/plain": [
       "(0, 209.19135724917882)"
      ]
     },
     "execution_count": 146,
     "metadata": {},
     "output_type": "execute_result"
    },
    {
     "data": {
      "image/png": "[encoded data removed]",
      "text/plain": [
       "<Figure size 864x720 with 1 Axes>"
      ]
     },
     "metadata": {
      "needs_background": "light"
     },
     "output_type": "display_data"
    }
   ],
   "source": [
    "import seaborn as sns\n",
    "%matplotlib inline \n",
    "\n",
    "width = 12\n",
    "height = 10\n",
    "plt.figure(figsize=(width, height))\n",
    "sns.regplot(x=\"Age\", y=\"MaxHR\", data=df)\n",
    "plt.ylim(0,)"
   ]
  },
  {
   "cell_type": "code",
   "execution_count": 147,
   "metadata": {},
   "outputs": [
    {
     "data": {
      "text/html": [
       "<div>\n",
       "<style scoped>\n",
       "    .dataframe tbody tr th:only-of-type {\n",
       "        vertical-align: middle;\n",
       "    }\n",
       "\n",
       "    .dataframe tbody tr th {\n",
       "        vertical-align: top;\n",
       "    }\n",
       "\n",
       "    .dataframe thead th {\n",
       "        text-align: right;\n",
       "    }\n",
       "</style>\n",
       "<table border=\"1\" class=\"dataframe\">\n",
       "  <thead>\n",
       "    <tr style=\"text-align: right;\">\n",
       "      <th></th>\n",
       "      <th>LVH</th>\n",
       "      <th>Normal</th>\n",
       "      <th>ST</th>\n",
       "    </tr>\n",
       "  </thead>\n",
       "  <tbody>\n",
       "    <tr>\n",
       "      <th>0</th>\n",
       "      <td>0</td>\n",
       "      <td>1</td>\n",
       "      <td>0</td>\n",
       "    </tr>\n",
       "    <tr>\n",
       "      <th>1</th>\n",
       "      <td>0</td>\n",
       "      <td>1</td>\n",
       "      <td>0</td>\n",
       "    </tr>\n",
       "    <tr>\n",
       "      <th>2</th>\n",
       "      <td>0</td>\n",
       "      <td>0</td>\n",
       "      <td>1</td>\n",
       "    </tr>\n",
       "    <tr>\n",
       "      <th>3</th>\n",
       "      <td>0</td>\n",
       "      <td>1</td>\n",
       "      <td>0</td>\n",
       "    </tr>\n",
       "    <tr>\n",
       "      <th>4</th>\n",
       "      <td>0</td>\n",
       "      <td>1</td>\n",
       "      <td>0</td>\n",
       "    </tr>\n",
       "  </tbody>\n",
       "</table>\n",
       "</div>"
      ],
      "text/plain": [
       "   LVH  Normal  ST\n",
       "0    0       1   0\n",
       "1    0       1   0\n",
       "2    0       0   1\n",
       "3    0       1   0\n",
       "4    0       1   0"
      ]
     },
     "execution_count": 147,
     "metadata": {},
     "output_type": "execute_result"
    }
   ],
   "source": [
    "dummy_RestingECG = pd.get_dummies(df['RestingECG'])\n",
    "dummy_RestingECG.head()"
   ]
  },
  {
   "cell_type": "code",
   "execution_count": 148,
   "metadata": {},
   "outputs": [
    {
     "data": {
      "text/html": [
       "<div>\n",
       "<style scoped>\n",
       "    .dataframe tbody tr th:only-of-type {\n",
       "        vertical-align: middle;\n",
       "    }\n",
       "\n",
       "    .dataframe tbody tr th {\n",
       "        vertical-align: top;\n",
       "    }\n",
       "\n",
       "    .dataframe thead th {\n",
       "        text-align: right;\n",
       "    }\n",
       "</style>\n",
       "<table border=\"1\" class=\"dataframe\">\n",
       "  <thead>\n",
       "    <tr style=\"text-align: right;\">\n",
       "      <th></th>\n",
       "      <th>N</th>\n",
       "      <th>Y</th>\n",
       "    </tr>\n",
       "  </thead>\n",
       "  <tbody>\n",
       "    <tr>\n",
       "      <th>0</th>\n",
       "      <td>1</td>\n",
       "      <td>0</td>\n",
       "    </tr>\n",
       "    <tr>\n",
       "      <th>1</th>\n",
       "      <td>1</td>\n",
       "      <td>0</td>\n",
       "    </tr>\n",
       "    <tr>\n",
       "      <th>2</th>\n",
       "      <td>1</td>\n",
       "      <td>0</td>\n",
       "    </tr>\n",
       "    <tr>\n",
       "      <th>3</th>\n",
       "      <td>0</td>\n",
       "      <td>1</td>\n",
       "    </tr>\n",
       "    <tr>\n",
       "      <th>4</th>\n",
       "      <td>1</td>\n",
       "      <td>0</td>\n",
       "    </tr>\n",
       "  </tbody>\n",
       "</table>\n",
       "</div>"
      ],
      "text/plain": [
       "   N  Y\n",
       "0  1  0\n",
       "1  1  0\n",
       "2  1  0\n",
       "3  0  1\n",
       "4  1  0"
      ]
     },
     "execution_count": 148,
     "metadata": {},
     "output_type": "execute_result"
    }
   ],
   "source": [
    "dummy_ExerciseAngina= pd.get_dummies(df['ExerciseAngina'])\n",
    "dummy_ExerciseAngina.head()"
   ]
  },
  {
   "cell_type": "code",
   "execution_count": 149,
   "metadata": {},
   "outputs": [
    {
     "data": {
      "text/html": [
       "<div>\n",
       "<style scoped>\n",
       "    .dataframe tbody tr th:only-of-type {\n",
       "        vertical-align: middle;\n",
       "    }\n",
       "\n",
       "    .dataframe tbody tr th {\n",
       "        vertical-align: top;\n",
       "    }\n",
       "\n",
       "    .dataframe thead th {\n",
       "        text-align: right;\n",
       "    }\n",
       "</style>\n",
       "<table border=\"1\" class=\"dataframe\">\n",
       "  <thead>\n",
       "    <tr style=\"text-align: right;\">\n",
       "      <th></th>\n",
       "      <th>Down</th>\n",
       "      <th>Flat</th>\n",
       "      <th>Up</th>\n",
       "    </tr>\n",
       "  </thead>\n",
       "  <tbody>\n",
       "    <tr>\n",
       "      <th>0</th>\n",
       "      <td>0</td>\n",
       "      <td>0</td>\n",
       "      <td>1</td>\n",
       "    </tr>\n",
       "    <tr>\n",
       "      <th>1</th>\n",
       "      <td>0</td>\n",
       "      <td>1</td>\n",
       "      <td>0</td>\n",
       "    </tr>\n",
       "    <tr>\n",
       "      <th>2</th>\n",
       "      <td>0</td>\n",
       "      <td>0</td>\n",
       "      <td>1</td>\n",
       "    </tr>\n",
       "    <tr>\n",
       "      <th>3</th>\n",
       "      <td>0</td>\n",
       "      <td>1</td>\n",
       "      <td>0</td>\n",
       "    </tr>\n",
       "    <tr>\n",
       "      <th>4</th>\n",
       "      <td>0</td>\n",
       "      <td>0</td>\n",
       "      <td>1</td>\n",
       "    </tr>\n",
       "  </tbody>\n",
       "</table>\n",
       "</div>"
      ],
      "text/plain": [
       "   Down  Flat  Up\n",
       "0     0     0   1\n",
       "1     0     1   0\n",
       "2     0     0   1\n",
       "3     0     1   0\n",
       "4     0     0   1"
      ]
     },
     "execution_count": 149,
     "metadata": {},
     "output_type": "execute_result"
    }
   ],
   "source": [
    "dummy_ST_Slope= pd.get_dummies(df['ST_Slope'])\n",
    "dummy_ST_Slope.head()"
   ]
  },
  {
   "cell_type": "code",
   "execution_count": 150,
   "metadata": {},
   "outputs": [
    {
     "data": {
      "text/html": [
       "<div>\n",
       "<style scoped>\n",
       "    .dataframe tbody tr th:only-of-type {\n",
       "        vertical-align: middle;\n",
       "    }\n",
       "\n",
       "    .dataframe tbody tr th {\n",
       "        vertical-align: top;\n",
       "    }\n",
       "\n",
       "    .dataframe thead th {\n",
       "        text-align: right;\n",
       "    }\n",
       "</style>\n",
       "<table border=\"1\" class=\"dataframe\">\n",
       "  <thead>\n",
       "    <tr style=\"text-align: right;\">\n",
       "      <th></th>\n",
       "      <th>ASY</th>\n",
       "      <th>ATA</th>\n",
       "      <th>NAP</th>\n",
       "      <th>TA</th>\n",
       "    </tr>\n",
       "  </thead>\n",
       "  <tbody>\n",
       "    <tr>\n",
       "      <th>0</th>\n",
       "      <td>0</td>\n",
       "      <td>1</td>\n",
       "      <td>0</td>\n",
       "      <td>0</td>\n",
       "    </tr>\n",
       "    <tr>\n",
       "      <th>1</th>\n",
       "      <td>0</td>\n",
       "      <td>0</td>\n",
       "      <td>1</td>\n",
       "      <td>0</td>\n",
       "    </tr>\n",
       "    <tr>\n",
       "      <th>2</th>\n",
       "      <td>0</td>\n",
       "      <td>1</td>\n",
       "      <td>0</td>\n",
       "      <td>0</td>\n",
       "    </tr>\n",
       "    <tr>\n",
       "      <th>3</th>\n",
       "      <td>1</td>\n",
       "      <td>0</td>\n",
       "      <td>0</td>\n",
       "      <td>0</td>\n",
       "    </tr>\n",
       "    <tr>\n",
       "      <th>4</th>\n",
       "      <td>0</td>\n",
       "      <td>0</td>\n",
       "      <td>1</td>\n",
       "      <td>0</td>\n",
       "    </tr>\n",
       "  </tbody>\n",
       "</table>\n",
       "</div>"
      ],
      "text/plain": [
       "   ASY  ATA  NAP  TA\n",
       "0    0    1    0   0\n",
       "1    0    0    1   0\n",
       "2    0    1    0   0\n",
       "3    1    0    0   0\n",
       "4    0    0    1   0"
      ]
     },
     "execution_count": 150,
     "metadata": {},
     "output_type": "execute_result"
    }
   ],
   "source": [
    "dummy_ChestPainType= pd.get_dummies(df['ChestPainType'])\n",
    "dummy_ChestPainType.head()"
   ]
  },
  {
   "cell_type": "code",
   "execution_count": 151,
   "metadata": {},
   "outputs": [
    {
     "data": {
      "text/html": [
       "<div>\n",
       "<style scoped>\n",
       "    .dataframe tbody tr th:only-of-type {\n",
       "        vertical-align: middle;\n",
       "    }\n",
       "\n",
       "    .dataframe tbody tr th {\n",
       "        vertical-align: top;\n",
       "    }\n",
       "\n",
       "    .dataframe thead th {\n",
       "        text-align: right;\n",
       "    }\n",
       "</style>\n",
       "<table border=\"1\" class=\"dataframe\">\n",
       "  <thead>\n",
       "    <tr style=\"text-align: right;\">\n",
       "      <th></th>\n",
       "      <th>F</th>\n",
       "      <th>M</th>\n",
       "    </tr>\n",
       "  </thead>\n",
       "  <tbody>\n",
       "    <tr>\n",
       "      <th>0</th>\n",
       "      <td>0</td>\n",
       "      <td>1</td>\n",
       "    </tr>\n",
       "    <tr>\n",
       "      <th>1</th>\n",
       "      <td>1</td>\n",
       "      <td>0</td>\n",
       "    </tr>\n",
       "    <tr>\n",
       "      <th>2</th>\n",
       "      <td>0</td>\n",
       "      <td>1</td>\n",
       "    </tr>\n",
       "    <tr>\n",
       "      <th>3</th>\n",
       "      <td>1</td>\n",
       "      <td>0</td>\n",
       "    </tr>\n",
       "    <tr>\n",
       "      <th>4</th>\n",
       "      <td>0</td>\n",
       "      <td>1</td>\n",
       "    </tr>\n",
       "  </tbody>\n",
       "</table>\n",
       "</div>"
      ],
      "text/plain": [
       "   F  M\n",
       "0  0  1\n",
       "1  1  0\n",
       "2  0  1\n",
       "3  1  0\n",
       "4  0  1"
      ]
     },
     "execution_count": 151,
     "metadata": {},
     "output_type": "execute_result"
    }
   ],
   "source": [
    "dummy_Sex= pd.get_dummies(df['Sex'])\n",
    "dummy_Sex.head()"
   ]
  },
  {
   "cell_type": "code",
   "execution_count": 152,
   "metadata": {},
   "outputs": [
    {
     "data": {
      "text/html": [
       "<div>\n",
       "<style scoped>\n",
       "    .dataframe tbody tr th:only-of-type {\n",
       "        vertical-align: middle;\n",
       "    }\n",
       "\n",
       "    .dataframe tbody tr th {\n",
       "        vertical-align: top;\n",
       "    }\n",
       "\n",
       "    .dataframe thead th {\n",
       "        text-align: right;\n",
       "    }\n",
       "</style>\n",
       "<table border=\"1\" class=\"dataframe\">\n",
       "  <thead>\n",
       "    <tr style=\"text-align: right;\">\n",
       "      <th></th>\n",
       "      <th>Age</th>\n",
       "      <th>Sex</th>\n",
       "      <th>ChestPainType</th>\n",
       "      <th>RestingBP</th>\n",
       "      <th>Cholesterol</th>\n",
       "      <th>FastingBS</th>\n",
       "      <th>RestingECG</th>\n",
       "      <th>MaxHR</th>\n",
       "      <th>ExerciseAngina</th>\n",
       "      <th>Oldpeak</th>\n",
       "      <th>...</th>\n",
       "      <th>Y</th>\n",
       "      <th>LVH</th>\n",
       "      <th>Normal</th>\n",
       "      <th>ST</th>\n",
       "      <th>ASY</th>\n",
       "      <th>ATA</th>\n",
       "      <th>NAP</th>\n",
       "      <th>TA</th>\n",
       "      <th>F</th>\n",
       "      <th>M</th>\n",
       "    </tr>\n",
       "  </thead>\n",
       "  <tbody>\n",
       "    <tr>\n",
       "      <th>0</th>\n",
       "      <td>40</td>\n",
       "      <td>M</td>\n",
       "      <td>ATA</td>\n",
       "      <td>140</td>\n",
       "      <td>289</td>\n",
       "      <td>0</td>\n",
       "      <td>Normal</td>\n",
       "      <td>172</td>\n",
       "      <td>N</td>\n",
       "      <td>0.0</td>\n",
       "      <td>...</td>\n",
       "      <td>0</td>\n",
       "      <td>0</td>\n",
       "      <td>1</td>\n",
       "      <td>0</td>\n",
       "      <td>0</td>\n",
       "      <td>1</td>\n",
       "      <td>0</td>\n",
       "      <td>0</td>\n",
       "      <td>0</td>\n",
       "      <td>1</td>\n",
       "    </tr>\n",
       "    <tr>\n",
       "      <th>1</th>\n",
       "      <td>49</td>\n",
       "      <td>F</td>\n",
       "      <td>NAP</td>\n",
       "      <td>160</td>\n",
       "      <td>180</td>\n",
       "      <td>0</td>\n",
       "      <td>Normal</td>\n",
       "      <td>156</td>\n",
       "      <td>N</td>\n",
       "      <td>1.0</td>\n",
       "      <td>...</td>\n",
       "      <td>0</td>\n",
       "      <td>0</td>\n",
       "      <td>1</td>\n",
       "      <td>0</td>\n",
       "      <td>0</td>\n",
       "      <td>0</td>\n",
       "      <td>1</td>\n",
       "      <td>0</td>\n",
       "      <td>1</td>\n",
       "      <td>0</td>\n",
       "    </tr>\n",
       "    <tr>\n",
       "      <th>2</th>\n",
       "      <td>37</td>\n",
       "      <td>M</td>\n",
       "      <td>ATA</td>\n",
       "      <td>130</td>\n",
       "      <td>283</td>\n",
       "      <td>0</td>\n",
       "      <td>ST</td>\n",
       "      <td>98</td>\n",
       "      <td>N</td>\n",
       "      <td>0.0</td>\n",
       "      <td>...</td>\n",
       "      <td>0</td>\n",
       "      <td>0</td>\n",
       "      <td>0</td>\n",
       "      <td>1</td>\n",
       "      <td>0</td>\n",
       "      <td>1</td>\n",
       "      <td>0</td>\n",
       "      <td>0</td>\n",
       "      <td>0</td>\n",
       "      <td>1</td>\n",
       "    </tr>\n",
       "    <tr>\n",
       "      <th>3</th>\n",
       "      <td>48</td>\n",
       "      <td>F</td>\n",
       "      <td>ASY</td>\n",
       "      <td>138</td>\n",
       "      <td>214</td>\n",
       "      <td>0</td>\n",
       "      <td>Normal</td>\n",
       "      <td>108</td>\n",
       "      <td>Y</td>\n",
       "      <td>1.5</td>\n",
       "      <td>...</td>\n",
       "      <td>1</td>\n",
       "      <td>0</td>\n",
       "      <td>1</td>\n",
       "      <td>0</td>\n",
       "      <td>1</td>\n",
       "      <td>0</td>\n",
       "      <td>0</td>\n",
       "      <td>0</td>\n",
       "      <td>1</td>\n",
       "      <td>0</td>\n",
       "    </tr>\n",
       "    <tr>\n",
       "      <th>4</th>\n",
       "      <td>54</td>\n",
       "      <td>M</td>\n",
       "      <td>NAP</td>\n",
       "      <td>150</td>\n",
       "      <td>195</td>\n",
       "      <td>0</td>\n",
       "      <td>Normal</td>\n",
       "      <td>122</td>\n",
       "      <td>N</td>\n",
       "      <td>0.0</td>\n",
       "      <td>...</td>\n",
       "      <td>0</td>\n",
       "      <td>0</td>\n",
       "      <td>1</td>\n",
       "      <td>0</td>\n",
       "      <td>0</td>\n",
       "      <td>0</td>\n",
       "      <td>1</td>\n",
       "      <td>0</td>\n",
       "      <td>0</td>\n",
       "      <td>1</td>\n",
       "    </tr>\n",
       "  </tbody>\n",
       "</table>\n",
       "<p>5 rows × 26 columns</p>\n",
       "</div>"
      ],
      "text/plain": [
       "   Age Sex ChestPainType  RestingBP  Cholesterol  FastingBS RestingECG  MaxHR  \\\n",
       "0   40   M           ATA        140          289          0     Normal    172   \n",
       "1   49   F           NAP        160          180          0     Normal    156   \n",
       "2   37   M           ATA        130          283          0         ST     98   \n",
       "3   48   F           ASY        138          214          0     Normal    108   \n",
       "4   54   M           NAP        150          195          0     Normal    122   \n",
       "\n",
       "  ExerciseAngina  Oldpeak ...  Y  LVH  Normal  ST  ASY  ATA  NAP  TA  F  M  \n",
       "0              N      0.0 ...  0    0       1   0    0    1    0   0  0  1  \n",
       "1              N      1.0 ...  0    0       1   0    0    0    1   0  1  0  \n",
       "2              N      0.0 ...  0    0       0   1    0    1    0   0  0  1  \n",
       "3              Y      1.5 ...  1    0       1   0    1    0    0   0  1  0  \n",
       "4              N      0.0 ...  0    0       1   0    0    0    1   0  0  1  \n",
       "\n",
       "[5 rows x 26 columns]"
      ]
     },
     "execution_count": 152,
     "metadata": {},
     "output_type": "execute_result"
    }
   ],
   "source": [
    "df = pd.concat([df, dummy_ST_Slope], axis=1)\n",
    "df = pd.concat([df, dummy_ExerciseAngina], axis=1)\n",
    "df = pd.concat([df, dummy_RestingECG], axis=1)\n",
    "df = pd.concat([df, dummy_ChestPainType], axis=1)\n",
    "df = pd.concat([df, dummy_Sex], axis=1)\n",
    "\n",
    "df = df.loc[:,~df.columns.duplicated()]\n",
    "\n",
    "df.head()"
   ]
  },
  {
   "cell_type": "code",
   "execution_count": 153,
   "metadata": {},
   "outputs": [],
   "source": [
    "from sklearn.preprocessing import PolynomialFeatures\n",
    "\n",
    "def PlotPolly(model, independent_variable, dependent_variabble, Name):\n",
    "    x_new = np.linspace(1, 100, 100)\n",
    "    y_new = model(x_new)\n",
    "\n",
    "    plt.plot(independent_variable, dependent_variabble, '.', x_new, y_new, '-')\n",
    "    plt.title('Polynomial Fit with Matplotlib for MaxHR ~ Age')\n",
    "    ax = plt.gca()\n",
    "    ax.set_facecolor((0.898, 0.898, 0.898))\n",
    "    fig = plt.gcf()\n",
    "    plt.xlabel('Age')\n",
    "    plt.ylabel(Name)\n",
    "    plt.ylim(70,200)\n",
    "    plt.xlim(20,)\n",
    "\n",
    "\n",
    "    plt.show()\n",
    "    plt.close()"
   ]
  },
  {
   "cell_type": "code",
   "execution_count": 154,
   "metadata": {},
   "outputs": [
    {
     "name": "stderr",
     "output_type": "stream",
     "text": [
      "C:\\Users\\gonca\\Anaconda3\\lib\\site-packages\\ipykernel_launcher.py:6: RankWarning: Polyfit may be poorly conditioned\n",
      "  \n"
     ]
    },
    {
     "name": "stdout",
     "output_type": "stream",
     "text": [
      "           20             19             18             17\n",
      "3.593e-27 x  - 1.844e-24 x  + 3.738e-22 x  - 3.369e-20 x \n",
      "              16            15             14             13\n",
      " + 4.462e-19 x  + 1.44e-16 x  - 5.455e-15 x  - 6.469e-13 x \n",
      "              12             11             10             9\n",
      " + 3.474e-11 x  + 2.941e-09 x  - 2.169e-07 x  - 1.083e-05 x\n",
      "             8             7         6         5             4\n",
      " + 0.001387 x - 5.259e-05 x - 6.769 x + 504.4 x - 1.977e+04 x\n",
      "              3             2\n",
      " + 4.792e+05 x - 7.242e+06 x + 6.304e+07 x - 2.426e+08\n"
     ]
    }
   ],
   "source": [
    "x = df['Age']\n",
    "y = df['MaxHR']\n",
    "\n",
    "z = df[['Age', 'Cholesterol', 'RestingBP', 'MaxHR', 'FastingBS', 'Oldpeak', 'Down', 'Flat', 'Up', 'LVH', 'Normal', 'ST', 'N','Y', 'ASY', 'ATA', 'NAP', 'TA', 'M', 'F']]\n",
    "\n",
    "f = np.polyfit(x, y, 20)\n",
    "p = np.poly1d(f)\n",
    "print(p)"
   ]
  },
  {
   "cell_type": "code",
   "execution_count": 155,
   "metadata": {},
   "outputs": [
    {
     "data": {
      "image/png": "[encoded data removed]",
      "text/plain": [
       "<Figure size 432x288 with 1 Axes>"
      ]
     },
     "metadata": {
      "needs_background": "light"
     },
     "output_type": "display_data"
    }
   ],
   "source": [
    "PlotPolly(p, x, y, 'MaxHR')"
   ]
  },
  {
   "cell_type": "code",
   "execution_count": 156,
   "metadata": {},
   "outputs": [
    {
     "data": {
      "text/html": [
       "<div>\n",
       "<style scoped>\n",
       "    .dataframe tbody tr th:only-of-type {\n",
       "        vertical-align: middle;\n",
       "    }\n",
       "\n",
       "    .dataframe tbody tr th {\n",
       "        vertical-align: top;\n",
       "    }\n",
       "\n",
       "    .dataframe thead th {\n",
       "        text-align: right;\n",
       "    }\n",
       "</style>\n",
       "<table border=\"1\" class=\"dataframe\">\n",
       "  <thead>\n",
       "    <tr style=\"text-align: right;\">\n",
       "      <th></th>\n",
       "      <th>Age</th>\n",
       "      <th>RestingBP</th>\n",
       "      <th>Cholesterol</th>\n",
       "      <th>FastingBS</th>\n",
       "      <th>MaxHR</th>\n",
       "      <th>Oldpeak</th>\n",
       "      <th>HeartDisease</th>\n",
       "      <th>Down</th>\n",
       "      <th>Flat</th>\n",
       "      <th>Up</th>\n",
       "      <th>...</th>\n",
       "      <th>Y</th>\n",
       "      <th>LVH</th>\n",
       "      <th>Normal</th>\n",
       "      <th>ST</th>\n",
       "      <th>ASY</th>\n",
       "      <th>ATA</th>\n",
       "      <th>NAP</th>\n",
       "      <th>TA</th>\n",
       "      <th>F</th>\n",
       "      <th>M</th>\n",
       "    </tr>\n",
       "  </thead>\n",
       "  <tbody>\n",
       "    <tr>\n",
       "      <th>Age</th>\n",
       "      <td>1.000000</td>\n",
       "      <td>0.254399</td>\n",
       "      <td>-0.095282</td>\n",
       "      <td>0.198039</td>\n",
       "      <td>-0.382045</td>\n",
       "      <td>0.258612</td>\n",
       "      <td>0.282039</td>\n",
       "      <td>0.138397</td>\n",
       "      <td>0.185568</td>\n",
       "      <td>-0.258067</td>\n",
       "      <td>...</td>\n",
       "      <td>0.215793</td>\n",
       "      <td>0.145727</td>\n",
       "      <td>-0.230566</td>\n",
       "      <td>0.136798</td>\n",
       "      <td>0.166607</td>\n",
       "      <td>-0.218165</td>\n",
       "      <td>-0.011335</td>\n",
       "      <td>0.032042</td>\n",
       "      <td>-0.055750</td>\n",
       "      <td>0.055750</td>\n",
       "    </tr>\n",
       "    <tr>\n",
       "      <th>RestingBP</th>\n",
       "      <td>0.254399</td>\n",
       "      <td>1.000000</td>\n",
       "      <td>0.100893</td>\n",
       "      <td>0.070193</td>\n",
       "      <td>-0.112135</td>\n",
       "      <td>0.164803</td>\n",
       "      <td>0.107589</td>\n",
       "      <td>-0.007912</td>\n",
       "      <td>0.099207</td>\n",
       "      <td>-0.096146</td>\n",
       "      <td>...</td>\n",
       "      <td>0.155101</td>\n",
       "      <td>0.053166</td>\n",
       "      <td>-0.116851</td>\n",
       "      <td>0.090447</td>\n",
       "      <td>0.048824</td>\n",
       "      <td>-0.046153</td>\n",
       "      <td>-0.041348</td>\n",
       "      <td>0.049855</td>\n",
       "      <td>-0.005133</td>\n",
       "      <td>0.005133</td>\n",
       "    </tr>\n",
       "    <tr>\n",
       "      <th>Cholesterol</th>\n",
       "      <td>-0.095282</td>\n",
       "      <td>0.100893</td>\n",
       "      <td>1.000000</td>\n",
       "      <td>-0.260974</td>\n",
       "      <td>0.235792</td>\n",
       "      <td>0.050148</td>\n",
       "      <td>-0.232741</td>\n",
       "      <td>-0.083371</td>\n",
       "      <td>-0.050953</td>\n",
       "      <td>0.094027</td>\n",
       "      <td>...</td>\n",
       "      <td>-0.034166</td>\n",
       "      <td>0.177077</td>\n",
       "      <td>-0.038470</td>\n",
       "      <td>-0.133106</td>\n",
       "      <td>-0.120531</td>\n",
       "      <td>0.150954</td>\n",
       "      <td>-0.006634</td>\n",
       "      <td>0.017365</td>\n",
       "      <td>0.200092</td>\n",
       "      <td>-0.200092</td>\n",
       "    </tr>\n",
       "    <tr>\n",
       "      <th>FastingBS</th>\n",
       "      <td>0.198039</td>\n",
       "      <td>0.070193</td>\n",
       "      <td>-0.260974</td>\n",
       "      <td>1.000000</td>\n",
       "      <td>-0.131438</td>\n",
       "      <td>0.052698</td>\n",
       "      <td>0.267291</td>\n",
       "      <td>0.105102</td>\n",
       "      <td>0.107006</td>\n",
       "      <td>-0.161730</td>\n",
       "      <td>...</td>\n",
       "      <td>0.060451</td>\n",
       "      <td>-0.011656</td>\n",
       "      <td>-0.093028</td>\n",
       "      <td>0.127110</td>\n",
       "      <td>0.131176</td>\n",
       "      <td>-0.140514</td>\n",
       "      <td>-0.039249</td>\n",
       "      <td>0.026885</td>\n",
       "      <td>-0.120076</td>\n",
       "      <td>0.120076</td>\n",
       "    </tr>\n",
       "    <tr>\n",
       "      <th>MaxHR</th>\n",
       "      <td>-0.382045</td>\n",
       "      <td>-0.112135</td>\n",
       "      <td>0.235792</td>\n",
       "      <td>-0.131438</td>\n",
       "      <td>1.000000</td>\n",
       "      <td>-0.160691</td>\n",
       "      <td>-0.400421</td>\n",
       "      <td>-0.073316</td>\n",
       "      <td>-0.342581</td>\n",
       "      <td>0.383397</td>\n",
       "      <td>...</td>\n",
       "      <td>-0.370425</td>\n",
       "      <td>0.125793</td>\n",
       "      <td>0.023801</td>\n",
       "      <td>-0.157879</td>\n",
       "      <td>-0.354963</td>\n",
       "      <td>0.253735</td>\n",
       "      <td>0.134580</td>\n",
       "      <td>0.100025</td>\n",
       "      <td>0.189186</td>\n",
       "      <td>-0.189186</td>\n",
       "    </tr>\n",
       "    <tr>\n",
       "      <th>Oldpeak</th>\n",
       "      <td>0.258612</td>\n",
       "      <td>0.164803</td>\n",
       "      <td>0.050148</td>\n",
       "      <td>0.052698</td>\n",
       "      <td>-0.160691</td>\n",
       "      <td>1.000000</td>\n",
       "      <td>0.403951</td>\n",
       "      <td>0.322130</td>\n",
       "      <td>0.283295</td>\n",
       "      <td>-0.450577</td>\n",
       "      <td>...</td>\n",
       "      <td>0.408752</td>\n",
       "      <td>0.086794</td>\n",
       "      <td>-0.116719</td>\n",
       "      <td>0.055958</td>\n",
       "      <td>0.280026</td>\n",
       "      <td>-0.262124</td>\n",
       "      <td>-0.106212</td>\n",
       "      <td>0.032231</td>\n",
       "      <td>-0.105734</td>\n",
       "      <td>0.105734</td>\n",
       "    </tr>\n",
       "    <tr>\n",
       "      <th>HeartDisease</th>\n",
       "      <td>0.282039</td>\n",
       "      <td>0.107589</td>\n",
       "      <td>-0.232741</td>\n",
       "      <td>0.267291</td>\n",
       "      <td>-0.400421</td>\n",
       "      <td>0.403951</td>\n",
       "      <td>1.000000</td>\n",
       "      <td>0.122527</td>\n",
       "      <td>0.554134</td>\n",
       "      <td>-0.622164</td>\n",
       "      <td>...</td>\n",
       "      <td>0.494282</td>\n",
       "      <td>0.010670</td>\n",
       "      <td>-0.091580</td>\n",
       "      <td>0.102527</td>\n",
       "      <td>0.516716</td>\n",
       "      <td>-0.401924</td>\n",
       "      <td>-0.212964</td>\n",
       "      <td>-0.054790</td>\n",
       "      <td>-0.305445</td>\n",
       "      <td>0.305445</td>\n",
       "    </tr>\n",
       "    <tr>\n",
       "      <th>Down</th>\n",
       "      <td>0.138397</td>\n",
       "      <td>-0.007912</td>\n",
       "      <td>-0.083371</td>\n",
       "      <td>0.105102</td>\n",
       "      <td>-0.073316</td>\n",
       "      <td>0.322130</td>\n",
       "      <td>0.122527</td>\n",
       "      <td>1.000000</td>\n",
       "      <td>-0.272040</td>\n",
       "      <td>-0.235904</td>\n",
       "      <td>...</td>\n",
       "      <td>0.136439</td>\n",
       "      <td>0.043755</td>\n",
       "      <td>-0.060564</td>\n",
       "      <td>0.030345</td>\n",
       "      <td>0.103407</td>\n",
       "      <td>-0.097754</td>\n",
       "      <td>-0.040816</td>\n",
       "      <td>0.016651</td>\n",
       "      <td>-0.066036</td>\n",
       "      <td>0.066036</td>\n",
       "    </tr>\n",
       "    <tr>\n",
       "      <th>Flat</th>\n",
       "      <td>0.185568</td>\n",
       "      <td>0.099207</td>\n",
       "      <td>-0.050953</td>\n",
       "      <td>0.107006</td>\n",
       "      <td>-0.342581</td>\n",
       "      <td>0.283295</td>\n",
       "      <td>0.554134</td>\n",
       "      <td>-0.272040</td>\n",
       "      <td>1.000000</td>\n",
       "      <td>-0.870951</td>\n",
       "      <td>...</td>\n",
       "      <td>0.382237</td>\n",
       "      <td>0.015091</td>\n",
       "      <td>-0.047172</td>\n",
       "      <td>0.043017</td>\n",
       "      <td>0.303645</td>\n",
       "      <td>-0.304667</td>\n",
       "      <td>-0.072031</td>\n",
       "      <td>-0.010486</td>\n",
       "      <td>-0.116077</td>\n",
       "      <td>0.116077</td>\n",
       "    </tr>\n",
       "    <tr>\n",
       "      <th>Up</th>\n",
       "      <td>-0.258067</td>\n",
       "      <td>-0.096146</td>\n",
       "      <td>0.094027</td>\n",
       "      <td>-0.161730</td>\n",
       "      <td>0.383397</td>\n",
       "      <td>-0.450577</td>\n",
       "      <td>-0.622164</td>\n",
       "      <td>-0.235904</td>\n",
       "      <td>-0.870951</td>\n",
       "      <td>1.000000</td>\n",
       "      <td>...</td>\n",
       "      <td>-0.455676</td>\n",
       "      <td>-0.037582</td>\n",
       "      <td>0.078563</td>\n",
       "      <td>-0.058936</td>\n",
       "      <td>-0.359443</td>\n",
       "      <td>0.357588</td>\n",
       "      <td>0.093583</td>\n",
       "      <td>0.002087</td>\n",
       "      <td>0.150942</td>\n",
       "      <td>-0.150942</td>\n",
       "    </tr>\n",
       "    <tr>\n",
       "      <th>N</th>\n",
       "      <td>-0.215793</td>\n",
       "      <td>-0.155101</td>\n",
       "      <td>0.034166</td>\n",
       "      <td>-0.060451</td>\n",
       "      <td>0.370425</td>\n",
       "      <td>-0.408752</td>\n",
       "      <td>-0.494282</td>\n",
       "      <td>-0.136439</td>\n",
       "      <td>-0.382237</td>\n",
       "      <td>0.455676</td>\n",
       "      <td>...</td>\n",
       "      <td>-1.000000</td>\n",
       "      <td>0.016382</td>\n",
       "      <td>0.072924</td>\n",
       "      <td>-0.107036</td>\n",
       "      <td>-0.430034</td>\n",
       "      <td>0.300365</td>\n",
       "      <td>0.166030</td>\n",
       "      <td>0.128105</td>\n",
       "      <td>0.190664</td>\n",
       "      <td>-0.190664</td>\n",
       "    </tr>\n",
       "    <tr>\n",
       "      <th>Y</th>\n",
       "      <td>0.215793</td>\n",
       "      <td>0.155101</td>\n",
       "      <td>-0.034166</td>\n",
       "      <td>0.060451</td>\n",
       "      <td>-0.370425</td>\n",
       "      <td>0.408752</td>\n",
       "      <td>0.494282</td>\n",
       "      <td>0.136439</td>\n",
       "      <td>0.382237</td>\n",
       "      <td>-0.455676</td>\n",
       "      <td>...</td>\n",
       "      <td>1.000000</td>\n",
       "      <td>-0.016382</td>\n",
       "      <td>-0.072924</td>\n",
       "      <td>0.107036</td>\n",
       "      <td>0.430034</td>\n",
       "      <td>-0.300365</td>\n",
       "      <td>-0.166030</td>\n",
       "      <td>-0.128105</td>\n",
       "      <td>-0.190664</td>\n",
       "      <td>0.190664</td>\n",
       "    </tr>\n",
       "    <tr>\n",
       "      <th>LVH</th>\n",
       "      <td>0.145727</td>\n",
       "      <td>0.053166</td>\n",
       "      <td>0.177077</td>\n",
       "      <td>-0.011656</td>\n",
       "      <td>0.125793</td>\n",
       "      <td>0.086794</td>\n",
       "      <td>0.010670</td>\n",
       "      <td>0.043755</td>\n",
       "      <td>0.015091</td>\n",
       "      <td>-0.037582</td>\n",
       "      <td>...</td>\n",
       "      <td>-0.016382</td>\n",
       "      <td>1.000000</td>\n",
       "      <td>-0.623227</td>\n",
       "      <td>-0.248892</td>\n",
       "      <td>0.002289</td>\n",
       "      <td>-0.085791</td>\n",
       "      <td>0.035299</td>\n",
       "      <td>0.081407</td>\n",
       "      <td>0.049518</td>\n",
       "      <td>-0.049518</td>\n",
       "    </tr>\n",
       "    <tr>\n",
       "      <th>Normal</th>\n",
       "      <td>-0.230566</td>\n",
       "      <td>-0.116851</td>\n",
       "      <td>-0.038470</td>\n",
       "      <td>-0.093028</td>\n",
       "      <td>0.023801</td>\n",
       "      <td>-0.116719</td>\n",
       "      <td>-0.091580</td>\n",
       "      <td>-0.060564</td>\n",
       "      <td>-0.047172</td>\n",
       "      <td>0.078563</td>\n",
       "      <td>...</td>\n",
       "      <td>-0.072924</td>\n",
       "      <td>-0.623227</td>\n",
       "      <td>1.000000</td>\n",
       "      <td>-0.602314</td>\n",
       "      <td>-0.063606</td>\n",
       "      <td>0.107941</td>\n",
       "      <td>0.005010</td>\n",
       "      <td>-0.057719</td>\n",
       "      <td>0.010634</td>\n",
       "      <td>-0.010634</td>\n",
       "    </tr>\n",
       "    <tr>\n",
       "      <th>ST</th>\n",
       "      <td>0.136798</td>\n",
       "      <td>0.090447</td>\n",
       "      <td>-0.133106</td>\n",
       "      <td>0.127110</td>\n",
       "      <td>-0.157879</td>\n",
       "      <td>0.055958</td>\n",
       "      <td>0.102527</td>\n",
       "      <td>0.030345</td>\n",
       "      <td>0.043017</td>\n",
       "      <td>-0.058936</td>\n",
       "      <td>...</td>\n",
       "      <td>0.107036</td>\n",
       "      <td>-0.248892</td>\n",
       "      <td>-0.602314</td>\n",
       "      <td>1.000000</td>\n",
       "      <td>0.076438</td>\n",
       "      <td>-0.046111</td>\n",
       "      <td>-0.042236</td>\n",
       "      <td>-0.011611</td>\n",
       "      <td>-0.063715</td>\n",
       "      <td>0.063715</td>\n",
       "    </tr>\n",
       "    <tr>\n",
       "      <th>ASY</th>\n",
       "      <td>0.166607</td>\n",
       "      <td>0.048824</td>\n",
       "      <td>-0.120531</td>\n",
       "      <td>0.131176</td>\n",
       "      <td>-0.354963</td>\n",
       "      <td>0.280026</td>\n",
       "      <td>0.516716</td>\n",
       "      <td>0.103407</td>\n",
       "      <td>0.303645</td>\n",
       "      <td>-0.359443</td>\n",
       "      <td>...</td>\n",
       "      <td>0.430034</td>\n",
       "      <td>0.002289</td>\n",
       "      <td>-0.063606</td>\n",
       "      <td>0.076438</td>\n",
       "      <td>1.000000</td>\n",
       "      <td>-0.522432</td>\n",
       "      <td>-0.577670</td>\n",
       "      <td>-0.249003</td>\n",
       "      <td>-0.183876</td>\n",
       "      <td>0.183876</td>\n",
       "    </tr>\n",
       "    <tr>\n",
       "      <th>ATA</th>\n",
       "      <td>-0.218165</td>\n",
       "      <td>-0.046153</td>\n",
       "      <td>0.150954</td>\n",
       "      <td>-0.140514</td>\n",
       "      <td>0.253735</td>\n",
       "      <td>-0.262124</td>\n",
       "      <td>-0.401924</td>\n",
       "      <td>-0.097754</td>\n",
       "      <td>-0.304667</td>\n",
       "      <td>0.357588</td>\n",
       "      <td>...</td>\n",
       "      <td>-0.300365</td>\n",
       "      <td>-0.085791</td>\n",
       "      <td>0.107941</td>\n",
       "      <td>-0.046111</td>\n",
       "      <td>-0.522432</td>\n",
       "      <td>1.000000</td>\n",
       "      <td>-0.256767</td>\n",
       "      <td>-0.110679</td>\n",
       "      <td>0.161522</td>\n",
       "      <td>-0.161522</td>\n",
       "    </tr>\n",
       "    <tr>\n",
       "      <th>NAP</th>\n",
       "      <td>-0.011335</td>\n",
       "      <td>-0.041348</td>\n",
       "      <td>-0.006634</td>\n",
       "      <td>-0.039249</td>\n",
       "      <td>0.134580</td>\n",
       "      <td>-0.106212</td>\n",
       "      <td>-0.212964</td>\n",
       "      <td>-0.040816</td>\n",
       "      <td>-0.072031</td>\n",
       "      <td>0.093583</td>\n",
       "      <td>...</td>\n",
       "      <td>-0.166030</td>\n",
       "      <td>0.035299</td>\n",
       "      <td>0.005010</td>\n",
       "      <td>-0.042236</td>\n",
       "      <td>-0.577670</td>\n",
       "      <td>-0.256767</td>\n",
       "      <td>1.000000</td>\n",
       "      <td>-0.122381</td>\n",
       "      <td>0.066486</td>\n",
       "      <td>-0.066486</td>\n",
       "    </tr>\n",
       "    <tr>\n",
       "      <th>TA</th>\n",
       "      <td>0.032042</td>\n",
       "      <td>0.049855</td>\n",
       "      <td>0.017365</td>\n",
       "      <td>0.026885</td>\n",
       "      <td>0.100025</td>\n",
       "      <td>0.032231</td>\n",
       "      <td>-0.054790</td>\n",
       "      <td>0.016651</td>\n",
       "      <td>-0.010486</td>\n",
       "      <td>0.002087</td>\n",
       "      <td>...</td>\n",
       "      <td>-0.128105</td>\n",
       "      <td>0.081407</td>\n",
       "      <td>-0.057719</td>\n",
       "      <td>-0.011611</td>\n",
       "      <td>-0.249003</td>\n",
       "      <td>-0.110679</td>\n",
       "      <td>-0.122381</td>\n",
       "      <td>1.000000</td>\n",
       "      <td>0.004031</td>\n",
       "      <td>-0.004031</td>\n",
       "    </tr>\n",
       "    <tr>\n",
       "      <th>F</th>\n",
       "      <td>-0.055750</td>\n",
       "      <td>-0.005133</td>\n",
       "      <td>0.200092</td>\n",
       "      <td>-0.120076</td>\n",
       "      <td>0.189186</td>\n",
       "      <td>-0.105734</td>\n",
       "      <td>-0.305445</td>\n",
       "      <td>-0.066036</td>\n",
       "      <td>-0.116077</td>\n",
       "      <td>0.150942</td>\n",
       "      <td>...</td>\n",
       "      <td>-0.190664</td>\n",
       "      <td>0.049518</td>\n",
       "      <td>0.010634</td>\n",
       "      <td>-0.063715</td>\n",
       "      <td>-0.183876</td>\n",
       "      <td>0.161522</td>\n",
       "      <td>0.066486</td>\n",
       "      <td>0.004031</td>\n",
       "      <td>1.000000</td>\n",
       "      <td>-1.000000</td>\n",
       "    </tr>\n",
       "    <tr>\n",
       "      <th>M</th>\n",
       "      <td>0.055750</td>\n",
       "      <td>0.005133</td>\n",
       "      <td>-0.200092</td>\n",
       "      <td>0.120076</td>\n",
       "      <td>-0.189186</td>\n",
       "      <td>0.105734</td>\n",
       "      <td>0.305445</td>\n",
       "      <td>0.066036</td>\n",
       "      <td>0.116077</td>\n",
       "      <td>-0.150942</td>\n",
       "      <td>...</td>\n",
       "      <td>0.190664</td>\n",
       "      <td>-0.049518</td>\n",
       "      <td>-0.010634</td>\n",
       "      <td>0.063715</td>\n",
       "      <td>0.183876</td>\n",
       "      <td>-0.161522</td>\n",
       "      <td>-0.066486</td>\n",
       "      <td>-0.004031</td>\n",
       "      <td>-1.000000</td>\n",
       "      <td>1.000000</td>\n",
       "    </tr>\n",
       "  </tbody>\n",
       "</table>\n",
       "<p>21 rows × 21 columns</p>\n",
       "</div>"
      ],
      "text/plain": [
       "                   Age  RestingBP  Cholesterol  FastingBS     MaxHR   Oldpeak  \\\n",
       "Age           1.000000   0.254399    -0.095282   0.198039 -0.382045  0.258612   \n",
       "RestingBP     0.254399   1.000000     0.100893   0.070193 -0.112135  0.164803   \n",
       "Cholesterol  -0.095282   0.100893     1.000000  -0.260974  0.235792  0.050148   \n",
       "FastingBS     0.198039   0.070193    -0.260974   1.000000 -0.131438  0.052698   \n",
       "MaxHR        -0.382045  -0.112135     0.235792  -0.131438  1.000000 -0.160691   \n",
       "Oldpeak       0.258612   0.164803     0.050148   0.052698 -0.160691  1.000000   \n",
       "HeartDisease  0.282039   0.107589    -0.232741   0.267291 -0.400421  0.403951   \n",
       "Down          0.138397  -0.007912    -0.083371   0.105102 -0.073316  0.322130   \n",
       "Flat          0.185568   0.099207    -0.050953   0.107006 -0.342581  0.283295   \n",
       "Up           -0.258067  -0.096146     0.094027  -0.161730  0.383397 -0.450577   \n",
       "N            -0.215793  -0.155101     0.034166  -0.060451  0.370425 -0.408752   \n",
       "Y             0.215793   0.155101    -0.034166   0.060451 -0.370425  0.408752   \n",
       "LVH           0.145727   0.053166     0.177077  -0.011656  0.125793  0.086794   \n",
       "Normal       -0.230566  -0.116851    -0.038470  -0.093028  0.023801 -0.116719   \n",
       "ST            0.136798   0.090447    -0.133106   0.127110 -0.157879  0.055958   \n",
       "ASY           0.166607   0.048824    -0.120531   0.131176 -0.354963  0.280026   \n",
       "ATA          -0.218165  -0.046153     0.150954  -0.140514  0.253735 -0.262124   \n",
       "NAP          -0.011335  -0.041348    -0.006634  -0.039249  0.134580 -0.106212   \n",
       "TA            0.032042   0.049855     0.017365   0.026885  0.100025  0.032231   \n",
       "F            -0.055750  -0.005133     0.200092  -0.120076  0.189186 -0.105734   \n",
       "M             0.055750   0.005133    -0.200092   0.120076 -0.189186  0.105734   \n",
       "\n",
       "              HeartDisease      Down      Flat        Up    ...            Y  \\\n",
       "Age               0.282039  0.138397  0.185568 -0.258067    ...     0.215793   \n",
       "RestingBP         0.107589 -0.007912  0.099207 -0.096146    ...     0.155101   \n",
       "Cholesterol      -0.232741 -0.083371 -0.050953  0.094027    ...    -0.034166   \n",
       "FastingBS         0.267291  0.105102  0.107006 -0.161730    ...     0.060451   \n",
       "MaxHR            -0.400421 -0.073316 -0.342581  0.383397    ...    -0.370425   \n",
       "Oldpeak           0.403951  0.322130  0.283295 -0.450577    ...     0.408752   \n",
       "HeartDisease      1.000000  0.122527  0.554134 -0.622164    ...     0.494282   \n",
       "Down              0.122527  1.000000 -0.272040 -0.235904    ...     0.136439   \n",
       "Flat              0.554134 -0.272040  1.000000 -0.870951    ...     0.382237   \n",
       "Up               -0.622164 -0.235904 -0.870951  1.000000    ...    -0.455676   \n",
       "N                -0.494282 -0.136439 -0.382237  0.455676    ...    -1.000000   \n",
       "Y                 0.494282  0.136439  0.382237 -0.455676    ...     1.000000   \n",
       "LVH               0.010670  0.043755  0.015091 -0.037582    ...    -0.016382   \n",
       "Normal           -0.091580 -0.060564 -0.047172  0.078563    ...    -0.072924   \n",
       "ST                0.102527  0.030345  0.043017 -0.058936    ...     0.107036   \n",
       "ASY               0.516716  0.103407  0.303645 -0.359443    ...     0.430034   \n",
       "ATA              -0.401924 -0.097754 -0.304667  0.357588    ...    -0.300365   \n",
       "NAP              -0.212964 -0.040816 -0.072031  0.093583    ...    -0.166030   \n",
       "TA               -0.054790  0.016651 -0.010486  0.002087    ...    -0.128105   \n",
       "F                -0.305445 -0.066036 -0.116077  0.150942    ...    -0.190664   \n",
       "M                 0.305445  0.066036  0.116077 -0.150942    ...     0.190664   \n",
       "\n",
       "                   LVH    Normal        ST       ASY       ATA       NAP  \\\n",
       "Age           0.145727 -0.230566  0.136798  0.166607 -0.218165 -0.011335   \n",
       "RestingBP     0.053166 -0.116851  0.090447  0.048824 -0.046153 -0.041348   \n",
       "Cholesterol   0.177077 -0.038470 -0.133106 -0.120531  0.150954 -0.006634   \n",
       "FastingBS    -0.011656 -0.093028  0.127110  0.131176 -0.140514 -0.039249   \n",
       "MaxHR         0.125793  0.023801 -0.157879 -0.354963  0.253735  0.134580   \n",
       "Oldpeak       0.086794 -0.116719  0.055958  0.280026 -0.262124 -0.106212   \n",
       "HeartDisease  0.010670 -0.091580  0.102527  0.516716 -0.401924 -0.212964   \n",
       "Down          0.043755 -0.060564  0.030345  0.103407 -0.097754 -0.040816   \n",
       "Flat          0.015091 -0.047172  0.043017  0.303645 -0.304667 -0.072031   \n",
       "Up           -0.037582  0.078563 -0.058936 -0.359443  0.357588  0.093583   \n",
       "N             0.016382  0.072924 -0.107036 -0.430034  0.300365  0.166030   \n",
       "Y            -0.016382 -0.072924  0.107036  0.430034 -0.300365 -0.166030   \n",
       "LVH           1.000000 -0.623227 -0.248892  0.002289 -0.085791  0.035299   \n",
       "Normal       -0.623227  1.000000 -0.602314 -0.063606  0.107941  0.005010   \n",
       "ST           -0.248892 -0.602314  1.000000  0.076438 -0.046111 -0.042236   \n",
       "ASY           0.002289 -0.063606  0.076438  1.000000 -0.522432 -0.577670   \n",
       "ATA          -0.085791  0.107941 -0.046111 -0.522432  1.000000 -0.256767   \n",
       "NAP           0.035299  0.005010 -0.042236 -0.577670 -0.256767  1.000000   \n",
       "TA            0.081407 -0.057719 -0.011611 -0.249003 -0.110679 -0.122381   \n",
       "F             0.049518  0.010634 -0.063715 -0.183876  0.161522  0.066486   \n",
       "M            -0.049518 -0.010634  0.063715  0.183876 -0.161522 -0.066486   \n",
       "\n",
       "                    TA         F         M  \n",
       "Age           0.032042 -0.055750  0.055750  \n",
       "RestingBP     0.049855 -0.005133  0.005133  \n",
       "Cholesterol   0.017365  0.200092 -0.200092  \n",
       "FastingBS     0.026885 -0.120076  0.120076  \n",
       "MaxHR         0.100025  0.189186 -0.189186  \n",
       "Oldpeak       0.032231 -0.105734  0.105734  \n",
       "HeartDisease -0.054790 -0.305445  0.305445  \n",
       "Down          0.016651 -0.066036  0.066036  \n",
       "Flat         -0.010486 -0.116077  0.116077  \n",
       "Up            0.002087  0.150942 -0.150942  \n",
       "N             0.128105  0.190664 -0.190664  \n",
       "Y            -0.128105 -0.190664  0.190664  \n",
       "LVH           0.081407  0.049518 -0.049518  \n",
       "Normal       -0.057719  0.010634 -0.010634  \n",
       "ST           -0.011611 -0.063715  0.063715  \n",
       "ASY          -0.249003 -0.183876  0.183876  \n",
       "ATA          -0.110679  0.161522 -0.161522  \n",
       "NAP          -0.122381  0.066486 -0.066486  \n",
       "TA            1.000000  0.004031 -0.004031  \n",
       "F             0.004031  1.000000 -1.000000  \n",
       "M            -0.004031 -1.000000  1.000000  \n",
       "\n",
       "[21 rows x 21 columns]"
      ]
     },
     "execution_count": 156,
     "metadata": {},
     "output_type": "execute_result"
    }
   ],
   "source": [
    "df.corr()"
   ]
  },
  {
   "cell_type": "code",
   "execution_count": 157,
   "metadata": {},
   "outputs": [],
   "source": [
    "from sklearn.preprocessing import PolynomialFeatures\n",
    "from sklearn.metrics import mean_squared_error\n",
    "from sklearn.metrics import r2_score"
   ]
  },
  {
   "cell_type": "code",
   "execution_count": 158,
   "metadata": {},
   "outputs": [
    {
     "data": {
      "text/plain": [
       "PolynomialFeatures(degree=2, include_bias=True, interaction_only=False)"
      ]
     },
     "execution_count": 158,
     "metadata": {},
     "output_type": "execute_result"
    }
   ],
   "source": [
    "pr=PolynomialFeatures(degree=2)\n",
    "pr"
   ]
  },
  {
   "cell_type": "code",
   "execution_count": 159,
   "metadata": {},
   "outputs": [],
   "source": [
    "Z_pr=pr.fit_transform(z)"
   ]
  },
  {
   "cell_type": "code",
   "execution_count": 160,
   "metadata": {},
   "outputs": [
    {
     "data": {
      "text/plain": [
       "(918, 20)"
      ]
     },
     "execution_count": 160,
     "metadata": {},
     "output_type": "execute_result"
    }
   ],
   "source": [
    "z.shape"
   ]
  },
  {
   "cell_type": "code",
   "execution_count": 161,
   "metadata": {},
   "outputs": [
    {
     "data": {
      "text/plain": [
       "(918, 231)"
      ]
     },
     "execution_count": 161,
     "metadata": {},
     "output_type": "execute_result"
    }
   ],
   "source": [
    "Z_pr.shape"
   ]
  },
  {
   "cell_type": "code",
   "execution_count": 162,
   "metadata": {},
   "outputs": [
    {
     "name": "stdout",
     "output_type": "stream",
     "text": [
      "The R-square is:  0.5757101767807937\n"
     ]
    }
   ],
   "source": [
    "lm.fit(z, df['HeartDisease'])\n",
    "# Find the R^2\n",
    "print('The R-square is: ', lm.score(z, df['HeartDisease']))"
   ]
  },
  {
   "cell_type": "code",
   "execution_count": 163,
   "metadata": {},
   "outputs": [
    {
     "name": "stdout",
     "output_type": "stream",
     "text": [
      "The mean square error of price and predicted value is:  0.10486361416085964\n"
     ]
    }
   ],
   "source": [
    "Yhat = lm.predict(z)\n",
    "mse = mean_squared_error(df['HeartDisease'], Yhat)\n",
    "print('The mean square error of price and predicted value is: ', mse)"
   ]
  },
  {
   "cell_type": "code",
   "execution_count": 164,
   "metadata": {},
   "outputs": [
    {
     "data": {
      "text/plain": [
       "0.1631761858551274"
      ]
     },
     "execution_count": 164,
     "metadata": {},
     "output_type": "execute_result"
    }
   ],
   "source": [
    "lm.fit(df[['Oldpeak']], df[['HeartDisease']])\n",
    "lm.score(df[['Oldpeak']], df[['HeartDisease']])"
   ]
  },
  {
   "cell_type": "code",
   "execution_count": 165,
   "metadata": {},
   "outputs": [
    {
     "name": "stdout",
     "output_type": "stream",
     "text": [
      "The mean square error of price and predicted value is:  0.20682176372109262\n"
     ]
    }
   ],
   "source": [
    "Yhat = lm.predict(df[['Oldpeak']])\n",
    "mse = mean_squared_error(df['HeartDisease'], Yhat)\n",
    "print('The mean square error of price and predicted value is: ', mse)"
   ]
  },
  {
   "cell_type": "code",
   "execution_count": 166,
   "metadata": {},
   "outputs": [
    {
     "name": "stdout",
     "output_type": "stream",
     "text": [
      "The R-square value is:  0.1610813231895557\n"
     ]
    }
   ],
   "source": [
    "r_squared = r2_score(y, p(x))\n",
    "print('The R-square value is: ', r_squared)"
   ]
  },
  {
   "cell_type": "code",
   "execution_count": 167,
   "metadata": {},
   "outputs": [],
   "source": [
    "def DistributionPlot(RedFunction, BlueFunction, RedName, BlueName, Title):\n",
    "    width = 12\n",
    "    height = 10\n",
    "    plt.figure(figsize=(width, height))\n",
    "\n",
    "    ax1 = sns.distplot(RedFunction, hist=False, color=\"r\", label=RedName)\n",
    "    ax2 = sns.distplot(BlueFunction, hist=False, color=\"b\", label=BlueName, ax=ax1)\n",
    "\n",
    "    plt.title(Title)\n",
    "    plt.xlabel('Max Heart Rate')\n",
    "    plt.ylabel('Proportion of observations')\n",
    "\n",
    "    plt.show()\n",
    "    plt.close()"
   ]
  },
  {
   "cell_type": "code",
   "execution_count": 168,
   "metadata": {},
   "outputs": [],
   "source": [
    "y_data = df['MaxHR']\n",
    "x_data = df.drop('MaxHR', axis =1)"
   ]
  },
  {
   "cell_type": "code",
   "execution_count": 169,
   "metadata": {},
   "outputs": [
    {
     "name": "stdout",
     "output_type": "stream",
     "text": [
      "number of test samples : 138\n",
      "number of training samples: 780\n"
     ]
    }
   ],
   "source": [
    "from sklearn.model_selection import train_test_split\n",
    "\n",
    "\n",
    "x_train, x_test, y_train, y_test = train_test_split(x_data, y_data, test_size=0.15, random_state=1)\n",
    "\n",
    "\n",
    "print(\"number of test samples :\", x_test.shape[0])\n",
    "print(\"number of training samples:\",x_train.shape[0])\n"
   ]
  },
  {
   "cell_type": "code",
   "execution_count": 170,
   "metadata": {},
   "outputs": [
    {
     "data": {
      "text/plain": [
       "LinearRegression(copy_X=True, fit_intercept=True, n_jobs=None,\n",
       "         normalize=False)"
      ]
     },
     "execution_count": 170,
     "metadata": {},
     "output_type": "execute_result"
    }
   ],
   "source": [
    "lr = LinearRegression()\n",
    "lr.fit(x_train[['Age', 'Cholesterol', 'RestingBP','FastingBS', 'Oldpeak', 'Down', 'Flat', 'Up', 'LVH', 'Normal', 'ST', 'N','Y', 'ASY', 'ATA', 'NAP', 'TA', 'M', 'F']], y_train)"
   ]
  },
  {
   "cell_type": "code",
   "execution_count": 171,
   "metadata": {},
   "outputs": [
    {
     "data": {
      "text/plain": [
       "array([148.01170107, 124.70917197, 112.45402172, 148.91056316,\n",
       "       148.92514462])"
      ]
     },
     "execution_count": 171,
     "metadata": {},
     "output_type": "execute_result"
    }
   ],
   "source": [
    "yhat_train = lr.predict(x_train[['Age', 'Cholesterol', 'RestingBP','FastingBS', 'Oldpeak', 'Down', 'Flat', 'Up', 'LVH', 'Normal', 'ST', 'N','Y', 'ASY', 'ATA', 'NAP', 'TA', 'M', 'F']])\n",
    "yhat_train[0:5]"
   ]
  },
  {
   "cell_type": "code",
   "execution_count": 172,
   "metadata": {},
   "outputs": [
    {
     "data": {
      "text/plain": [
       "array([140.35026912, 122.40954883, 133.93762018, 121.90822291,\n",
       "       111.49200187])"
      ]
     },
     "execution_count": 172,
     "metadata": {},
     "output_type": "execute_result"
    }
   ],
   "source": [
    "yhat_test = lr.predict(x_test[['Age', 'Cholesterol', 'RestingBP','FastingBS', 'Oldpeak', 'Down', 'Flat', 'Up', 'LVH', 'Normal', 'ST', 'N','Y', 'ASY', 'ATA', 'NAP', 'TA', 'M', 'F']])\n",
    "yhat_test[0:5]"
   ]
  },
  {
   "cell_type": "code",
   "execution_count": 173,
   "metadata": {},
   "outputs": [],
   "source": [
    "import matplotlib.pyplot as plt\n",
    "%matplotlib inline\n",
    "import seaborn as sns"
   ]
  },
  {
   "cell_type": "code",
   "execution_count": 174,
   "metadata": {},
   "outputs": [
    {
     "name": "stderr",
     "output_type": "stream",
     "text": [
      "C:\\Users\\gonca\\Anaconda3\\lib\\site-packages\\scipy\\stats\\stats.py:1713: FutureWarning: Using a non-tuple sequence for multidimensional indexing is deprecated; use `arr[tuple(seq)]` instead of `arr[seq]`. In the future this will be interpreted as an array index, `arr[np.array(seq)]`, which will result either in an error or a different result.\n",
      "  return np.add.reduce(sorted[indexer] * weights, axis=axis) / sumval\n"
     ]
    },
    {
     "data": {
      "image/png": "[encoded data removed]",
      "text/plain": [
       "<Figure size 864x720 with 1 Axes>"
      ]
     },
     "metadata": {
      "needs_background": "light"
     },
     "output_type": "display_data"
    }
   ],
   "source": [
    "Title = 'Distribution  Plot of  Predicted Value Using Training Data vs Training Data Distribution'\n",
    "DistributionPlot(y_train, yhat_train, \"Actual Values (Train)\", \"Predicted Values (Train)\", Title)"
   ]
  },
  {
   "cell_type": "code",
   "execution_count": 175,
   "metadata": {},
   "outputs": [
    {
     "data": {
      "image/png": "[encoded data removed]",
      "text/plain": [
       "<Figure size 864x720 with 1 Axes>"
      ]
     },
     "metadata": {
      "needs_background": "light"
     },
     "output_type": "display_data"
    }
   ],
   "source": [
    "Title='Distribution  Plot of  Predicted Value Using Test Data vs Data Distribution of Test Data'\n",
    "DistributionPlot(y_test,yhat_test,\"Actual Values (Test)\",\"Predicted Values (Test)\",Title)"
   ]
  },
  {
   "cell_type": "code",
   "execution_count": 176,
   "metadata": {},
   "outputs": [],
   "source": [
    "from sklearn.preprocessing import PolynomialFeatures"
   ]
  },
  {
   "cell_type": "code",
   "execution_count": 177,
   "metadata": {},
   "outputs": [],
   "source": [
    "x_train, x_test, y_train, y_test = train_test_split(x_data, y_data, test_size=0.45, random_state=0)"
   ]
  },
  {
   "cell_type": "code",
   "execution_count": 178,
   "metadata": {},
   "outputs": [
    {
     "data": {
      "text/plain": [
       "poly1d([ 3.59307371e-27, -1.84370379e-24,  3.73751844e-22, -3.36906584e-20,\n",
       "        4.46237578e-19,  1.44004751e-16, -5.45474574e-15, -6.46866714e-13,\n",
       "        3.47406676e-11,  2.94117261e-09, -2.16946906e-07, -1.08343708e-05,\n",
       "        1.38731006e-03, -5.25862864e-05, -6.76869912e+00,  5.04373550e+02,\n",
       "       -1.97741314e+04,  4.79150947e+05, -7.24208212e+06,  6.30433668e+07,\n",
       "       -2.42648258e+08])"
      ]
     },
     "execution_count": 178,
     "metadata": {},
     "output_type": "execute_result"
    }
   ],
   "source": [
    "pr = PolynomialFeatures(degree=1)\n",
    "x_train_pr = pr.fit_transform(x_train[['Oldpeak']])\n",
    "x_test_pr = pr.fit_transform(x_test[['Oldpeak']])\n",
    "p"
   ]
  },
  {
   "cell_type": "code",
   "execution_count": 179,
   "metadata": {},
   "outputs": [
    {
     "data": {
      "text/plain": [
       "LinearRegression(copy_X=True, fit_intercept=True, n_jobs=None,\n",
       "         normalize=False)"
      ]
     },
     "execution_count": 179,
     "metadata": {},
     "output_type": "execute_result"
    }
   ],
   "source": [
    "poly = LinearRegression()\n",
    "poly.fit(x_train_pr, y_train)"
   ]
  },
  {
   "cell_type": "code",
   "execution_count": 180,
   "metadata": {},
   "outputs": [
    {
     "data": {
      "text/plain": [
       "0.04243616730684863"
      ]
     },
     "execution_count": 180,
     "metadata": {},
     "output_type": "execute_result"
    }
   ],
   "source": [
    "poly.score(x_train_pr, y_train)"
   ]
  },
  {
   "cell_type": "code",
   "execution_count": 181,
   "metadata": {},
   "outputs": [
    {
     "data": {
      "text/plain": [
       "Text(3, 0.75, 'Maximum R^2 ')"
      ]
     },
     "execution_count": 181,
     "metadata": {},
     "output_type": "execute_result"
    },
    {
     "data": {
      "image/png": "[encoded data removed]",
      "text/plain": [
       "<Figure size 432x288 with 1 Axes>"
      ]
     },
     "metadata": {
      "needs_background": "light"
     },
     "output_type": "display_data"
    }
   ],
   "source": [
    "Rsqu_test = []\n",
    "\n",
    "order = [1, 2, 3, 4, 5, 6, 7, 8, 9, 10, 11, 12, 13 ,14, 15, 16, 17, 18, 19, 20, 21, 22]\n",
    "for n in order:\n",
    "    pr = PolynomialFeatures(degree=n)\n",
    "    \n",
    "    x_train_pr = pr.fit_transform(x_train[['Oldpeak']])\n",
    "    \n",
    "    x_test_pr = pr.fit_transform(x_test[['Oldpeak']])    \n",
    "    \n",
    "    lr.fit(x_train_pr, y_train)\n",
    "    \n",
    "    Rsqu_test.append(lr.score(x_test_pr, y_test))\n",
    "\n",
    "plt.plot(order, Rsqu_test)\n",
    "plt.xlabel('order')\n",
    "plt.ylabel('R^2')\n",
    "plt.title('R^2 Using Test Data')\n",
    "plt.text(3, 0.75, 'Maximum R^2 ')    "
   ]
  },
  {
   "cell_type": "code",
   "execution_count": 182,
   "metadata": {},
   "outputs": [
    {
     "data": {
      "text/plain": [
       "MinMaxScaler(copy=True, feature_range=(0, 1))"
      ]
     },
     "execution_count": 182,
     "metadata": {},
     "output_type": "execute_result"
    }
   ],
   "source": [
    "from sklearn.preprocessing import MinMaxScaler\n",
    "scaler = MinMaxScaler()\n",
    "scaler"
   ]
  },
  {
   "cell_type": "code",
   "execution_count": 183,
   "metadata": {},
   "outputs": [],
   "source": [
    "x_train_scaled = scaler.fit_transform(x_train_pr)\n",
    "x_test_scaled = scaler.transform(x_test_pr)"
   ]
  },
  {
   "cell_type": "code",
   "execution_count": 184,
   "metadata": {},
   "outputs": [],
   "source": [
    "from sklearn.linear_model import Ridge"
   ]
  },
  {
   "cell_type": "code",
   "execution_count": 185,
   "metadata": {},
   "outputs": [],
   "source": [
    "pr=PolynomialFeatures(degree=2)\n",
    "x_train_pr=pr.fit_transform(x_train[['Age', 'Cholesterol', 'RestingBP','FastingBS', 'Oldpeak', 'Down', 'Flat', 'Up', 'LVH', 'Normal', 'ST', 'N','Y', 'ASY', 'ATA', 'NAP', 'TA', 'M', 'F']])\n",
    "x_test_pr=pr.fit_transform(x_test[['Age', 'Cholesterol', 'RestingBP','FastingBS', 'Oldpeak', 'Down', 'Flat', 'Up', 'LVH', 'Normal', 'ST', 'N','Y', 'ASY', 'ATA', 'NAP', 'TA', 'M', 'F']])"
   ]
  },
  {
   "cell_type": "code",
   "execution_count": 186,
   "metadata": {},
   "outputs": [],
   "source": [
    "RigeModel=Ridge(alpha=1)"
   ]
  },
  {
   "cell_type": "code",
   "execution_count": 187,
   "metadata": {},
   "outputs": [
    {
     "data": {
      "text/plain": [
       "Ridge(alpha=1, copy_X=True, fit_intercept=True, max_iter=None,\n",
       "   normalize=False, random_state=None, solver='auto', tol=0.001)"
      ]
     },
     "execution_count": 187,
     "metadata": {},
     "output_type": "execute_result"
    }
   ],
   "source": [
    "RigeModel.fit(x_train_pr, y_train)"
   ]
  },
  {
   "cell_type": "code",
   "execution_count": 188,
   "metadata": {},
   "outputs": [
    {
     "name": "stderr",
     "output_type": "stream",
     "text": [
      "\n",
      "\n",
      "  0%|                                                                                           | 0/10 [00:00<?, ?it/s]\n",
      "\n",
      "  0%|                                                      | 0/10 [00:00<?, ?it/s, Test Score=0.128, Train Score=0.477]\n",
      "\n",
      "  0%|                                                       | 0/10 [00:00<?, ?it/s, Test Score=0.25, Train Score=0.497]\n",
      "\n",
      "  0%|                                                      | 0/10 [00:00<?, ?it/s, Test Score=0.262, Train Score=0.485]\n",
      "\n",
      "  0%|                                                      | 0/10 [00:00<?, ?it/s, Test Score=0.267, Train Score=0.477]\n",
      "\n",
      "  0%|                                                       | 0/10 [00:00<?, ?it/s, Test Score=0.27, Train Score=0.472]\n",
      "\n",
      "  0%|                                                      | 0/10 [00:00<?, ?it/s, Test Score=0.271, Train Score=0.468]\n",
      "\n",
      "  0%|                                                      | 0/10 [00:00<?, ?it/s, Test Score=0.272, Train Score=0.464]\n",
      "\n",
      "  0%|                                                      | 0/10 [00:00<?, ?it/s, Test Score=0.273, Train Score=0.462]\n",
      "\n",
      "  0%|                                                      | 0/10 [00:00<?, ?it/s, Test Score=0.274, Train Score=0.459]\n",
      "\n",
      "  0%|                                                      | 0/10 [00:00<?, ?it/s, Test Score=0.274, Train Score=0.457]\n",
      "\n",
      "100%|████████████████████████████████████████████| 10/10 [00:00<00:00, 132.62it/s, Test Score=0.274, Train Score=0.457]"
     ]
    }
   ],
   "source": [
    "from tqdm import tqdm\n",
    "\n",
    "Rsqu_test = []\n",
    "Rsqu_train = []\n",
    "dummy1 = []\n",
    "Alpha = 10 * np.array(range(0,10))\n",
    "pbar = tqdm(Alpha)\n",
    "\n",
    "for alpha in pbar:\n",
    "    RigeModel = Ridge(alpha=alpha) \n",
    "    RigeModel.fit(x_train_pr, y_train)\n",
    "    test_score, train_score = RigeModel.score(x_test_pr, y_test), RigeModel.score(x_train_pr, y_train)\n",
    "    \n",
    "    pbar.set_postfix({\"Test Score\": test_score, \"Train Score\": train_score})\n",
    "    \n",
    "    Rsqu_test.append(test_score)\n",
    "    Rsqu_train.append(train_score)"
   ]
  },
  {
   "cell_type": "code",
   "execution_count": 189,
   "metadata": {},
   "outputs": [
    {
     "ename": "NameError",
     "evalue": "name 'LogisticRegression' is not defined",
     "output_type": "error",
     "traceback": [
      "\u001b[1;31m---------------------------------------------------------------------------\u001b[0m",
      "\u001b[1;31mNameError\u001b[0m                                 Traceback (most recent call last)",
      "\u001b[1;32m<ipython-input-189-e34962cbf5f9>\u001b[0m in \u001b[0;36m<module>\u001b[1;34m\u001b[0m\n\u001b[1;32m----> 1\u001b[1;33m \u001b[0mLR_model\u001b[0m \u001b[1;33m=\u001b[0m \u001b[0mLogisticRegression\u001b[0m\u001b[1;33m(\u001b[0m\u001b[1;33m)\u001b[0m \u001b[1;31m# Since Basic accuracy outcome gives the best model accuracy results, we will implement it\u001b[0m\u001b[1;33m\u001b[0m\u001b[1;33m\u001b[0m\u001b[0m\n\u001b[0m\u001b[0;32m      2\u001b[0m \u001b[0mLR_model\u001b[0m\u001b[1;33m.\u001b[0m\u001b[0mfit\u001b[0m\u001b[1;33m(\u001b[0m\u001b[0mX_train_scaled\u001b[0m\u001b[1;33m,\u001b[0m \u001b[0my_train\u001b[0m\u001b[1;33m)\u001b[0m\u001b[1;33m\u001b[0m\u001b[1;33m\u001b[0m\u001b[0m\n\u001b[0;32m      3\u001b[0m \u001b[0my_pred\u001b[0m \u001b[1;33m=\u001b[0m \u001b[0mLR_model\u001b[0m\u001b[1;33m.\u001b[0m\u001b[0mpredict\u001b[0m\u001b[1;33m(\u001b[0m\u001b[0mX_test_scaled\u001b[0m\u001b[1;33m)\u001b[0m\u001b[1;33m\u001b[0m\u001b[1;33m\u001b[0m\u001b[0m\n\u001b[0;32m      4\u001b[0m \u001b[0my_train_pred\u001b[0m \u001b[1;33m=\u001b[0m \u001b[0mLR_model\u001b[0m\u001b[1;33m.\u001b[0m\u001b[0mpredict\u001b[0m\u001b[1;33m(\u001b[0m\u001b[0mX_train_scaled\u001b[0m\u001b[1;33m)\u001b[0m\u001b[1;33m\u001b[0m\u001b[1;33m\u001b[0m\u001b[0m\n\u001b[0;32m      5\u001b[0m \u001b[1;33m\u001b[0m\u001b[0m\n",
      "\u001b[1;31mNameError\u001b[0m: name 'LogisticRegression' is not defined"
     ]
    }
   ],
   "source": [
    "LR_model = LogisticRegression() # Since Basic accuracy outcome gives the best model accuracy results, we will implement it \n",
    "LR_model.fit(X_train_scaled, y_train)\n",
    "y_pred = LR_model.predict(X_test_scaled)\n",
    "y_train_pred = LR_model.predict(X_train_scaled)\n",
    "\n",
    "log_f1 = f1_score(y_test, y_pred)\n",
    "log_acc = accuracy_score(y_test, y_pred)\n",
    "log_recall = recall_score(y_test, y_pred)\n",
    "log_auc = roc_auc_score(y_test, y_pred)\n",
    "\n",
    "print(confusion_matrix(y_test, y_pred))\n",
    "print(\"\\033[1m--------------------------------------------------------\\033[0m\")\n",
    "print(classification_report(y_test, y_pred))\n",
    "print(\"\\033[1m--------------------------------------------------------\\033[0m\")\n",
    "\n",
    "plot_confusion_matrix(LR_model, X_test_scaled, y_test)\n",
    "\n",
    "train_val(y_train, y_train_pred, y_test, y_pred)"
   ]
  },
  {
   "cell_type": "code",
   "execution_count": null,
   "metadata": {},
   "outputs": [],
   "source": []
  },
  {
   "cell_type": "code",
   "execution_count": null,
   "metadata": {},
   "outputs": [],
   "source": []
  }
 ],
 "metadata": {
  "kernelspec": {
   "display_name": "Python 3",
   "language": "python",
   "name": "python3"
  },
  "language_info": {
   "codemirror_mode": {
    "name": "ipython",
    "version": 3
   },
   "file_extension": ".py",
   "mimetype": "text/x-python",
   "name": "python",
   "nbconvert_exporter": "python",
   "pygments_lexer": "ipython3",
   "version": "3.7.1"
  }
 },
 "nbformat": 4,
 "nbformat_minor": 2
}
